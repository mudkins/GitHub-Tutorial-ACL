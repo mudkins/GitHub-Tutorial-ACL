{
 "cells": [
  {
   "cell_type": "code",
   "execution_count": 106,
   "metadata": {},
   "outputs": [],
   "source": [
    "import ee\n",
    "import pandas as pd\n",
    "\n",
    "# Trigger the authentication flow. This only needs to be done once,\n",
    "# and ensures that you have access to google earth engine through your google account\n",
    "#ee.Authenticate()\n",
    "\n",
    "# Initialize the library.\n",
    "ee.Initialize()\n",
    "#read in the latlong csv\n",
    "latlong = pd.read_csv('latlong.csv')\n"
   ]
  },
  {
   "cell_type": "code",
   "execution_count": 141,
   "metadata": {},
   "outputs": [
    {
     "data": {
      "text/plain": [
       "227.74383544921875"
      ]
     },
     "execution_count": 141,
     "metadata": {},
     "output_type": "execute_result"
    }
   ],
   "source": [
    "#test a certain point using lat long data\n",
    "point = ee.Geometry.Point(18.5672, -88.2569)\n",
    "temp.mean().sample(point, 1).first().get('mean_2m_air_temperature').getInfo()"
   ]
  },
  {
   "cell_type": "code",
   "execution_count": 153,
   "metadata": {
    "scrolled": true
   },
   "outputs": [],
   "source": [
    "#load the gee image collection\n",
    "#filter it by the dates you want, and the data you are looking for\n",
    "temp = ee.ImageCollection(\"ECMWF/ERA5/MONTHLY\").filterDate('2009-01-01', '2019-01-01').select('mean_2m_air_temperature')\n",
    "\n",
    "#add a column in the dataframe for mean monthly temperature that currently has all 0s, but which we will fill with the info\n",
    "latlong[\"mean monthly temp\"] = 0\n",
    "#pd.options.mode.chained_assignment = None\n",
    "for x in range(len(latlong)):\n",
    "    point = ee.Geometry.Point(latlong['decimalLongitude'][x], latlong['decimalLatitude'][x])\n",
    "    latlong[\"mean monthly temp\"][x] = temp.mean().sample(point, 1).first().get('mean_2m_air_temperature').getInfo()\n",
    "\n",
    "#convert to celcius\n",
    "latlong['mean monthly temp'] = latlong['mean monthly temp']-273.15\n"
   ]
  },
  {
   "cell_type": "code",
   "execution_count": 156,
   "metadata": {},
   "outputs": [],
   "source": [
    "#print the first 30 rows of this dataframe\n",
    "latlong.head(30)\n",
    "#export the csv to your folder(might have to directly put the folder location)\n",
    "latlong.to_csv('latlongtemp.csv')"
   ]
  },
  {
   "cell_type": "code",
   "execution_count": 174,
   "metadata": {},
   "outputs": [],
   "source": [
    "count = latlong['scientificName'].value_counts().rename_axis('scientificName').to_frame('frequency')\n",
    "count.to_csv('count.csv')"
   ]
  }
 ],
 "metadata": {
  "kernelspec": {
   "display_name": "Python 3",
   "language": "python",
   "name": "python3"
  },
  "language_info": {
   "codemirror_mode": {
    "name": "ipython",
    "version": 3
   },
   "file_extension": ".py",
   "mimetype": "text/x-python",
   "name": "python",
   "nbconvert_exporter": "python",
   "pygments_lexer": "ipython3",
   "version": "3.8.5"
  }
 },
 "nbformat": 4,
 "nbformat_minor": 4
}
